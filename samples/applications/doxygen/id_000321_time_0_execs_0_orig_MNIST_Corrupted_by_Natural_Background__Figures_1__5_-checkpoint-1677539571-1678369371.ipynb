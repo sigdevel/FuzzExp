{
 "cells": [
  {
   "cell_type": "markdown",
   "metadata": {},
   "source": [
    "# Load MNIST"
   ]
  },
  {
   "cell_type": "code",
   "execution_count": null,
   "metadata": {},
   "outputs": [],
   "source": [
    "import numpy as np\n",
    "from tensorflow.examples.tutorials.mnist import input_data\n",
    "import matplotlib.pyplot as plt\n",
    "%matplotlib inline\n",
    "\n",
    "mnist = input_data.read_data_sets(\"MNIST_data/\", one_hot=False)\n",
    "\n",
    "target_idx = np.where(mnist.train.labels<2)[0]\n",
    "foreground = mnist.train.images[target_idx,:][:5000]\n",
    "target_labels = mnist.train.labels[target_idx][:5000]"
   ]
  },
  {
   "cell_type": "markdown",
   "metadata": {},
   "source": [
    "### PCA on Regular MNIST"
   ]
  },
  {
   "cell_type": "code",
   "execution_count": null,
   "metadata": {},
   "outputs": [],
   "source": [
    "from sklearn.decomposition import PCA\n",
    "\n",
    "pca = PCA(n_components=2)\n",
    "fg = pca.fit_transform(foreground)\n",
    "colors = ['k','r']\n",
    "\n",
    "for i, l in enumerate(np.sort(np.unique(target_labels))):\n",
    "    plt.scatter(fg[np.where(target_labels==l),0],fg[np.where(target_labels==l),1], \n",
    "                color=colors[i], label='Digit ' +str(l))\n",
    "plt.legend()"
   ]
  },
  {
   "cell_type": "markdown",
   "metadata": {},
   "source": [
    "# Load Natural Images of Grass"
   ]
  },
  {
   "cell_type": "markdown",
   "metadata": {},
   "source": [
    "These pictures are found in this [OneDrive link](https://1drv.ms/f/s!AgLi37o1j88ahrJTLeycjuEoHpVhQw), or they can be downloaded from [ImageNet](http://image-net.org/download) using the synset 'grass'. (*Note*: replace IMAGE_PATH with path to the downloaded images)"
   ]
  },
  {
   "cell_type": "code",
   "execution_count": null,
   "metadata": {
    "scrolled": true
   },
   "outputs": [],
   "source": [
    "from PIL import Image\n",
    "from utils import resize_and_crop\n",
    "import os\n",
    "\n",
    "IMAGE_PATH = 'C:\\\\Users\\\\aabid\\\\OneDrive\\\\Pictures\\\\Imagenet-Grass\\\\' #Replace with your own path to downloaded images\n",
    "        \n",
    "natural_images = list() #dictionary of pictures indexed by the pic # and each value is 100x100 image\n",
    "for filename in os.listdir(IMAGE_PATH):\n",
    "    if filename.endswith(\".JPEG\") or filename.endswith(\".JPG\") or filename.endswith(\".jpg\"):\n",
    "        try:\n",
    "            im = Image.open(os.path.join(IMAGE_PATH,filename))\n",
    "            im = im.convert(mode=\"L\") #convert to grayscale\n",
    "            im = resize_and_crop(im) #resize and crop each picture to be 100px by 100px\n",
    "            natural_images.append(np.reshape(im, [10000])) \n",
    "        except Exception as e:\n",
    "            pass #print(e)\n",
    "            \n",
    "natural_images=np.asarray(natural_images,dtype=float)\n",
    "natural_images/=255 #rescale to be 0-1\n",
    "print(\"Array of grass images:\",natural_images.shape)"
   ]
  },
  {
   "cell_type": "markdown",
   "metadata": {},
   "source": [
    "# Corrupt MNIST by Superimposing Images of Grass"
   ]
  },
  {
   "cell_type": "markdown",
   "metadata": {},
   "source": [
    "To create each of the 5000 corrupted digits, randomly chosen a 28px by 28px region from a grass image to be superimposed on top of the digits."
   ]
  },
  {
   "cell_type": "code",
   "execution_count": null,
   "metadata": {
    "collapsed": true
   },
   "outputs": [],
   "source": [
    "np.random.seed(0) # for reproducibility\n",
    "\n",
    "rand_indices =  np.random.permutation(natural_images.shape[0]) # just shuffles the indices\n",
    "split = int(len(rand_indices)/2)\n",
    "target_indices = rand_indices[0:split] # choose the first half of images to be superimposed on target\n",
    "background_indices = rand_indices[split:] # choose the second half of images to be background dataset\n",
    "\n",
    "target = np.zeros(foreground.shape)\n",
    "background = np.zeros(foreground.shape)\n",
    "\n",
    "for i in range(target.shape[0]):\n",
    "    idx = np.random.choice(target_indices) # randomly pick a image \n",
    "    loc = np.random.randint(70,size=(2)) # randomly pick a region in the image\n",
    "    superimposed_patch = np.reshape(np.reshape(natural_images[idx,:],[100,100])[loc[0]:loc[0]+28,:][:,loc[1]:loc[1]+28] ,[1,784])    \n",
    "    target[i] = 0.25*foreground[i] + superimposed_patch\n",
    "    \n",
    "    idx = np.random.choice(background_indices) # randomly pick a image \n",
    "    loc = np.random.randint(70,size=(2)) # randomly pick a region in the image\n",
    "    background_patch = np.reshape(np.reshape(natural_images[idx,:],[100,100])[loc[0]:loc[0]+28,:][:,loc[1]:loc[1]+28] ,[1,784])    \n",
    "    background[i] = background_patch"
   ]
  },
  {
   "cell_type": "markdown",
   "metadata": {},
   "source": [
    "### Some Example Images"
   ]
  },
  {
   "cell_type": "code",
   "execution_count": null,
   "metadata": {
    "scrolled": true
   },
   "outputs": [],
   "source": [
    "n_show=6\n",
    "\n",
    "plt.figure(figsize=[12,12])\n",
    "for i in range(n_show):\n",
    "    plt.subplot(1, n_show, i+1)\n",
    "    idx=np.random.randint(5000)\n",
    "    plt.imshow(np.reshape(target[idx,:],[28,28]),cmap='gray', interpolation=\"bicubic\")\n",
    "    plt.axis('off')\n",
    "\n",
    "plt.figure(figsize=[12,12])\n",
    "for i in range(n_show):\n",
    "    plt.subplot(1, n_show, i+1)\n",
    "    idx=np.random.randint(5000)\n",
    "    plt.imshow(np.reshape(background[idx,:],[28,28]),cmap='gray', interpolation=\"bicubic\")\n",
    "    plt.axis('off')\n",
    "    "
   ]
  },
  {
   "cell_type": "markdown",
   "metadata": {},
   "source": [
    "### PCA on Corrupted MNIST"
   ]
  },
  {
   "cell_type": "code",
   "execution_count": null,
   "metadata": {},
   "outputs": [],
   "source": [
    "from sklearn.decomposition import PCA\n",
    "\n",
    "pca = PCA(n_components=2)\n",
    "fg = pca.fit_transform(target)\n",
    "\n",
    "for i, l in enumerate(np.sort(np.unique(target_labels))):\n",
    "    plt.scatter(fg[np.where(target_labels==l),0],fg[np.where(target_labels==l),1], \n",
    "                color=colors[i], label='Digit ' +str(l))\n",
    "plt.legend()"
   ]
  },
  {
   "cell_type": "markdown",
   "metadata": {},
   "source": [
    "# Perform Contrastive PCA"
   ]
  },
  {
   "cell_type": "code",
   "execution_count": null,
   "metadata": {},
   "outputs": [],
   "source": [
    "from contrastive import CPCA\n",
    "\n",
    "mdl = CPCA()\n",
    "projected_data = mdl.fit_transform(target, background, plot=True, active_labels=target_labels)"
   ]
  },
  {
   "cell_type": "markdown",
   "metadata": {},
   "source": [
    "# Features Captured by PCA vs. cPCA"
   ]
  },
  {
   "cell_type": "code",
   "execution_count": null,
   "metadata": {},
   "outputs": [],
   "source": [
    "plt.figure(figsize=[12,5])\n",
    "w, v = np.linalg.eig(mdl.fg_cov)\n",
    "idx = np.argmax(w)\n",
    "plt.subplot(1,2,1)\n",
    "plt.imshow(v[:,idx].reshape(28,28),cmap='Reds')\n",
    "plt.colorbar()\n",
    "plt.title('Contributions of Pixels to PC1')\n",
    "\n",
    "w, v = np.linalg.eig(mdl.fg_cov - 4.38*mdl.bg_cov) # the value 4.38 is taken from the previous diagram, where alpha=4.38 separates the clusters most clearly\n",
    "idx = np.argmax(w)\n",
    "plt.subplot(1,2,2)\n",
    "plt.imshow(v[:,idx].reshape(28,28),cmap='Reds')\n",
    "plt.colorbar()\n",
    "plt.title('Contributions of Pixels to cPC1')"
   ]
  },
  {
   "cell_type": "markdown",
   "metadata": {},
   "source": [
    "# Denoising with PCA vs. cPCA"
   ]
  },
  {
   "cell_type": "code",
   "execution_count": null,
   "metadata": {},
   "outputs": [],
   "source": [
    "n_components = 5\n",
    "for idx in range(4):\n",
    "    image = target[idx:idx+1]\n",
    "    plt.figure(figsize=[12,12])\n",
    "    plt.subplot(1,3,1)\n",
    "    plt.imshow(image.reshape(28,28),cmap='gray')\n",
    "    plt.title('Original Image')\n",
    "\n",
    "    w, v = np.linalg.eig(mdl.fg_cov)\n",
    "    indices = np.argsort(w)[::-1][:n_components]\n",
    "    image_ = image.dot(v[:,indices])\n",
    "    image_ = image_.dot(v[:,indices].T) #keep only the top components of the image\n",
    "    plt.subplot(1,3,2)\n",
    "    plt.imshow(image_.reshape(28,28),cmap='gray')\n",
    "    plt.title('PCA Denoising')\n",
    "\n",
    "    w, v = np.linalg.eig(mdl.fg_cov - 4.38*mdl.bg_cov) # the value 4.38 is taken from the plot that is two plots previous to this one, where alpha=4.38 separates the clusters most clearly\n",
    "    indices = np.argsort(w)[::-1][:n_components]\n",
    "    image_ = image.dot(v[:,indices])\n",
    "    image_ = image_.dot(v[:,indices].T) #keep only the top components of the image\n",
    "    plt.subplot(1,3,3)\n",
    "    plt.imshow(image_.reshape(28,28),cmap='gray')\n",
    "    plt.title('cPCA Denoising')"
   ]
  }
 ],
 "metadata": {
  "anaconda-cloud": {},
  "kernelspec": {
   "display_name": "Python 3",
   "language": "python",
   "name": "python3"
  },
  "language_info": {
   "codemirror_mode": {
    "name": "ipython",
    "version": 3
   },
   "file_extension": ".py",
   "mimetype": "text/x-python",
   "name": "python",
   "nbconvert_exporter": "python",
   "pygments_lexer": "ipython3",
   "version": "3.5.2"
  }
 },
 "nbformat": 4,
 "nbformat_minor": 2
}
